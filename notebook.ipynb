{
 "cells": [
  {
   "cell_type": "code",
   "execution_count": null,
   "metadata": {},
   "outputs": [],
   "source": [
    "import pandas as pd\n",
    "import numpy as np\n",
    "import matplotlib.pyplot as plt\n",
    "\n",
    "%matplotlib inline\n",
    "\n",
    "noise_level_path = './2017_poblacio_exposada_barris_mapa_estrategic_soroll_bcn_long.csv'\n",
    "rent_path = './2017_lloguer_preu_trim.csv'"
   ]
  }
 ],
 "metadata": {
  "kernelspec": {
   "display_name": "Python 3.11.3 ('ml')",
   "language": "python",
   "name": "python3"
  },
  "language_info": {
   "name": "python",
   "version": "3.11.3"
  },
  "orig_nbformat": 4,
  "vscode": {
   "interpreter": {
    "hash": "56c63f4b451bc66461af340ee5ea9f831b935a75b814b4f68e8a9aa16f7c66b3"
   }
  }
 },
 "nbformat": 4,
 "nbformat_minor": 2
}
