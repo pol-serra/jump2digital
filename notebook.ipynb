{
 "cells": [
  {
   "cell_type": "code",
   "execution_count": 2,
   "metadata": {},
   "outputs": [],
   "source": [
    "import pandas as pd\n",
    "import numpy as np\n",
    "import matplotlib.pyplot as plt\n",
    "\n",
    "%matplotlib inline\n",
    "\n",
    "noise_level_path = './2017_poblacio_exposada_barris_mapa_estrategic_soroll_bcn_long.csv'\n",
    "rent_path = './2017_lloguer_preu_trim.csv'\n",
    "\n",
    "rent = pd.read_csv(rent_path)\n",
    "noise_level = pd.read_csv(noise_level_path)"
   ]
  },
  {
   "cell_type": "code",
   "execution_count": 3,
   "metadata": {},
   "outputs": [],
   "source": [
    "df_pivoted = rent.pivot_table(index=['Any', 'Trimestre', 'Codi_Districte', 'Nom_Districte', 'Codi_Barri', 'Nom_Barri'],\n",
    "                              columns='Lloguer_mitja',\n",
    "                              values='Preu',\n",
    "                              aggfunc='first').reset_index()\n",
    "\n",
    "# Renombrar las columnas\n",
    "df_pivoted.rename(columns={'Lloguer mitjà mensual (Euros/mes)': 'Precio_Mensual',\n",
    "                          'Lloguer mitjà per superfície (Euros/m2 mes)': 'Precio_Por_Superficie'},\n",
    "                 inplace=True)\n",
    "\n",
    "# Si deseas combinar las dos columnas en un solo DataFrame, puedes hacerlo así\n",
    "df_combined = df_pivoted[['Any', 'Trimestre', 'Codi_Districte', 'Nom_Districte', 'Codi_Barri', 'Nom_Barri', 'Precio_Mensual', 'Precio_Por_Superficie']]\n",
    "\n",
    "rent = df_combined"
   ]
  },
  {
   "cell_type": "code",
   "execution_count": 4,
   "metadata": {},
   "outputs": [],
   "source": [
    "# Computing middle value for Month price and m2 price\n",
    "\n",
    "price_month=df_pivoted.groupby('Codi_Barri')['Precio_Mensual'].mean()\n",
    "price_m2=df_pivoted.groupby('Codi_Barri')['Precio_Por_Superficie'].mean()"
   ]
  },
  {
   "cell_type": "code",
   "execution_count": 5,
   "metadata": {},
   "outputs": [],
   "source": [
    "# Agrupar por distrito y barrio y calcular el promedio de Precio_Por_Superficie\n",
    "rent_middle = df_pivoted.groupby(['Codi_Districte', 'Nom_Districte', 'Codi_Barri', 'Nom_Barri']).agg(\n",
    "    Precio_Por_Superficie_Mean=('Precio_Por_Superficie', 'mean'),\n",
    "    Precio_Mensual_Mean=('Precio_Mensual', 'mean')\n",
    ").reset_index()"
   ]
  },
  {
   "cell_type": "code",
   "execution_count": 6,
   "metadata": {},
   "outputs": [],
   "source": [
    "df_joined = rent_middle.merge(noise_level, on = ['Codi_Districte', 'Nom_Districte', 'Codi_Barri', 'Nom_Barri'])\n",
    "to_drop = ['Codi_Districte', 'Codi_Barri']\n",
    "for drop in to_drop:\n",
    "    df_joined=df_joined.drop(drop,axis=1)"
   ]
  },
  {
   "cell_type": "code",
   "execution_count": 7,
   "metadata": {},
   "outputs": [],
   "source": [
    "def transform_value(x):\n",
    "    return np.float16(x.replace(\"%\",\"\"))/100\n",
    "    \n",
    "df_joined['Valor']=df_joined['Valor'].apply(transform_value)\n",
    "\n",
    "df = df_joined.copy()"
   ]
  },
  {
   "cell_type": "code",
   "execution_count": 8,
   "metadata": {},
   "outputs": [],
   "source": [
    "mapeo_rango_db = {\n",
    "    '<40 dB': 30,\n",
    "    '40-45 dB': 42.5,\n",
    "    '45-50 dB': 47.5,\n",
    "    '50-55 dB': 52.5,\n",
    "    '55-60 dB': 57.5,\n",
    "    '60-65 dB': 62.5,\n",
    "    '65-70 dB': 67.5,\n",
    "    '70-75 dB': 72.5,\n",
    "    '75-80 dB': 77.5,\n",
    "    '>=80 dB': 90 \n",
    "}\n",
    "df['Valor_Numerico'] = df['Rang_soroll'].map(mapeo_rango_db)\n",
    "df['dB_Promig'] = df['Valor_Numerico'] * df['Valor']\n",
    "df_dB = df.groupby(['Nom_Districte', 'Nom_Barri', 'Precio_Por_Superficie_Mean', 'Precio_Mensual_Mean', 'Concepte'])['dB_Promig'].sum().reset_index()\n",
    "\n",
    "dum=pd.get_dummies(df_dB, columns=['Concepte'],prefix=['Concepte'])"
   ]
  },
  {
   "cell_type": "code",
   "execution_count": 9,
   "metadata": {},
   "outputs": [],
   "source": [
    "import pandas as pd\n",
    "from sklearn.decomposition import PCA\n",
    "from sklearn.preprocessing import StandardScaler\n",
    "import matplotlib.pyplot as plt\n",
    "\n",
    "#Extract columns from characteristics\n",
    "X = dum.drop(['Nom_Districte', 'Nom_Barri'], axis=1)\n",
    "\n",
    "# Standarized values\n",
    "scaler = StandardScaler()\n",
    "X_scaled = scaler.fit_transform(X)"
   ]
  },
  {
   "cell_type": "code",
   "execution_count": 10,
   "metadata": {},
   "outputs": [
    {
     "name": "stdout",
     "output_type": "stream",
     "text": [
      "Index(['Nom_Districte', 'Nom_Barri', 'Precio_Por_Superficie_Mean',\n",
      "       'Precio_Mensual_Mean', 'dB_Promig', 'Concepte_FFCC_D',\n",
      "       'Concepte_FFCC_DEN', 'Concepte_FFCC_E', 'Concepte_FFCC_N',\n",
      "       'Concepte_GI_TR_D', 'Concepte_GI_TR_DEN', 'Concepte_GI_TR_E',\n",
      "       'Concepte_GI_TR_N', 'Concepte_INDUST_D', 'Concepte_INDUST_DEN',\n",
      "       'Concepte_INDUST_E', 'Concepte_INDUST_N', 'Concepte_OCI_N',\n",
      "       'Concepte_PARCS_D', 'Concepte_PATIS_D', 'Concepte_PATIS_E',\n",
      "       'Concepte_TOTAL_D', 'Concepte_TOTAL_DEN', 'Concepte_TOTAL_E',\n",
      "       'Concepte_TOTAL_N', 'Concepte_TRANSIT_D', 'Concepte_TRANSIT_DEN',\n",
      "       'Concepte_TRANSIT_E', 'Concepte_TRANSIT_N', 'Concepte_VIANANTS_D',\n",
      "       'Concepte_VIANANTS_E'],\n",
      "      dtype='object')\n"
     ]
    },
    {
     "ename": "ValueError",
     "evalue": "The truth value of an array with more than one element is ambiguous. Use a.any() or a.all()",
     "output_type": "error",
     "traceback": [
      "\u001b[0;31m---------------------------------------------------------------------------\u001b[0m",
      "\u001b[0;31mValueError\u001b[0m                                Traceback (most recent call last)",
      "Cell \u001b[0;32mIn[10], line 15\u001b[0m\n\u001b[1;32m      4\u001b[0m \u001b[38;5;28mprint\u001b[39m(dum\u001b[38;5;241m.\u001b[39mcolumns)\n\u001b[1;32m      5\u001b[0m concept_cols \u001b[38;5;241m=\u001b[39m [\u001b[38;5;124m'\u001b[39m\u001b[38;5;124mConcepte_FFCC_D\u001b[39m\u001b[38;5;124m'\u001b[39m,\n\u001b[1;32m      6\u001b[0m        \u001b[38;5;124m'\u001b[39m\u001b[38;5;124mConcepte_FFCC_DEN\u001b[39m\u001b[38;5;124m'\u001b[39m, \u001b[38;5;124m'\u001b[39m\u001b[38;5;124mConcepte_FFCC_E\u001b[39m\u001b[38;5;124m'\u001b[39m, \u001b[38;5;124m'\u001b[39m\u001b[38;5;124mConcepte_FFCC_N\u001b[39m\u001b[38;5;124m'\u001b[39m,\n\u001b[1;32m      7\u001b[0m        \u001b[38;5;124m'\u001b[39m\u001b[38;5;124mConcepte_GI_TR_D\u001b[39m\u001b[38;5;124m'\u001b[39m, \u001b[38;5;124m'\u001b[39m\u001b[38;5;124mConcepte_GI_TR_DEN\u001b[39m\u001b[38;5;124m'\u001b[39m, \u001b[38;5;124m'\u001b[39m\u001b[38;5;124mConcepte_GI_TR_E\u001b[39m\u001b[38;5;124m'\u001b[39m,\n\u001b[0;32m   (...)\u001b[0m\n\u001b[1;32m     13\u001b[0m        \u001b[38;5;124m'\u001b[39m\u001b[38;5;124mConcepte_TRANSIT_E\u001b[39m\u001b[38;5;124m'\u001b[39m, \u001b[38;5;124m'\u001b[39m\u001b[38;5;124mConcepte_TRANSIT_N\u001b[39m\u001b[38;5;124m'\u001b[39m, \u001b[38;5;124m'\u001b[39m\u001b[38;5;124mConcepte_VIANANTS_D\u001b[39m\u001b[38;5;124m'\u001b[39m,\n\u001b[1;32m     14\u001b[0m        \u001b[38;5;124m'\u001b[39m\u001b[38;5;124mConcepte_VIANANTS_E\u001b[39m\u001b[38;5;124m'\u001b[39m]\n\u001b[0;32m---> 15\u001b[0m y_district \u001b[38;5;241m=\u001b[39m [col \u001b[38;5;28;01mfor\u001b[39;00m col \u001b[38;5;129;01min\u001b[39;00m concept_cols \u001b[38;5;28;01mif\u001b[39;00m dum[col]\u001b[38;5;241m.\u001b[39mvalues \u001b[38;5;241m==\u001b[39m \u001b[38;5;241m1\u001b[39m]\n\u001b[1;32m     16\u001b[0m y_district_info \u001b[38;5;241m=\u001b[39m \u001b[38;5;28mlist\u001b[39m(\u001b[38;5;28mzip\u001b[39m(dum[\u001b[38;5;124m'\u001b[39m\u001b[38;5;124mNom_Districte\u001b[39m\u001b[38;5;124m'\u001b[39m], dum[\u001b[38;5;124m'\u001b[39m\u001b[38;5;124mConcepte\u001b[39m\u001b[38;5;124m'\u001b[39m]))\n\u001b[1;32m     18\u001b[0m \u001b[38;5;66;03m# Combinar las dos listas para obtener una lista de tuplas\u001b[39;00m\n",
      "Cell \u001b[0;32mIn[10], line 15\u001b[0m, in \u001b[0;36m<listcomp>\u001b[0;34m(.0)\u001b[0m\n\u001b[1;32m      4\u001b[0m \u001b[38;5;28mprint\u001b[39m(dum\u001b[38;5;241m.\u001b[39mcolumns)\n\u001b[1;32m      5\u001b[0m concept_cols \u001b[38;5;241m=\u001b[39m [\u001b[38;5;124m'\u001b[39m\u001b[38;5;124mConcepte_FFCC_D\u001b[39m\u001b[38;5;124m'\u001b[39m,\n\u001b[1;32m      6\u001b[0m        \u001b[38;5;124m'\u001b[39m\u001b[38;5;124mConcepte_FFCC_DEN\u001b[39m\u001b[38;5;124m'\u001b[39m, \u001b[38;5;124m'\u001b[39m\u001b[38;5;124mConcepte_FFCC_E\u001b[39m\u001b[38;5;124m'\u001b[39m, \u001b[38;5;124m'\u001b[39m\u001b[38;5;124mConcepte_FFCC_N\u001b[39m\u001b[38;5;124m'\u001b[39m,\n\u001b[1;32m      7\u001b[0m        \u001b[38;5;124m'\u001b[39m\u001b[38;5;124mConcepte_GI_TR_D\u001b[39m\u001b[38;5;124m'\u001b[39m, \u001b[38;5;124m'\u001b[39m\u001b[38;5;124mConcepte_GI_TR_DEN\u001b[39m\u001b[38;5;124m'\u001b[39m, \u001b[38;5;124m'\u001b[39m\u001b[38;5;124mConcepte_GI_TR_E\u001b[39m\u001b[38;5;124m'\u001b[39m,\n\u001b[0;32m   (...)\u001b[0m\n\u001b[1;32m     13\u001b[0m        \u001b[38;5;124m'\u001b[39m\u001b[38;5;124mConcepte_TRANSIT_E\u001b[39m\u001b[38;5;124m'\u001b[39m, \u001b[38;5;124m'\u001b[39m\u001b[38;5;124mConcepte_TRANSIT_N\u001b[39m\u001b[38;5;124m'\u001b[39m, \u001b[38;5;124m'\u001b[39m\u001b[38;5;124mConcepte_VIANANTS_D\u001b[39m\u001b[38;5;124m'\u001b[39m,\n\u001b[1;32m     14\u001b[0m        \u001b[38;5;124m'\u001b[39m\u001b[38;5;124mConcepte_VIANANTS_E\u001b[39m\u001b[38;5;124m'\u001b[39m]\n\u001b[0;32m---> 15\u001b[0m y_district \u001b[38;5;241m=\u001b[39m [col \u001b[38;5;28;01mfor\u001b[39;00m col \u001b[38;5;129;01min\u001b[39;00m concept_cols \u001b[38;5;28;01mif\u001b[39;00m dum[col]\u001b[38;5;241m.\u001b[39mvalues \u001b[38;5;241m==\u001b[39m \u001b[38;5;241m1\u001b[39m]\n\u001b[1;32m     16\u001b[0m y_district_info \u001b[38;5;241m=\u001b[39m \u001b[38;5;28mlist\u001b[39m(\u001b[38;5;28mzip\u001b[39m(dum[\u001b[38;5;124m'\u001b[39m\u001b[38;5;124mNom_Districte\u001b[39m\u001b[38;5;124m'\u001b[39m], dum[\u001b[38;5;124m'\u001b[39m\u001b[38;5;124mConcepte\u001b[39m\u001b[38;5;124m'\u001b[39m]))\n\u001b[1;32m     18\u001b[0m \u001b[38;5;66;03m# Combinar las dos listas para obtener una lista de tuplas\u001b[39;00m\n",
      "\u001b[0;31mValueError\u001b[0m: The truth value of an array with more than one element is ambiguous. Use a.any() or a.all()"
     ]
    }
   ],
   "source": [
    "pca = PCA(n_components=2)  \n",
    "pca_result = pca.fit_transform(X)\n",
    "y=[str(nbh) for nbh in dum['Nom_Barri']]\n",
    "print(dum.columns)\n",
    "concept_cols = ['Concepte_FFCC_D',\n",
    "       'Concepte_FFCC_DEN', 'Concepte_FFCC_E', 'Concepte_FFCC_N',\n",
    "       'Concepte_GI_TR_D', 'Concepte_GI_TR_DEN', 'Concepte_GI_TR_E',\n",
    "       'Concepte_GI_TR_N', 'Concepte_INDUST_D', 'Concepte_INDUST_DEN',\n",
    "       'Concepte_INDUST_E', 'Concepte_INDUST_N', 'Concepte_OCI_N',\n",
    "       'Concepte_PARCS_D', 'Concepte_PATIS_D', 'Concepte_PATIS_E',\n",
    "       'Concepte_TOTAL_D', 'Concepte_TOTAL_DEN', 'Concepte_TOTAL_E',\n",
    "       'Concepte_TOTAL_N', 'Concepte_TRANSIT_D', 'Concepte_TRANSIT_DEN',\n",
    "       'Concepte_TRANSIT_E', 'Concepte_TRANSIT_N', 'Concepte_VIANANTS_D',\n",
    "       'Concepte_VIANANTS_E']\n",
    "y_district = [col for col in concept_cols if dum[col].values == 1]\n",
    "y_district_info = list(zip(dum['Nom_Districte'], dum['Concepte']))\n",
    "\n",
    "# Combinar las dos listas para obtener una lista de tuplas\n",
    "y_district= [(dist, concept) + (col,) for dist, concept, col in zip(y_district_info, y_district)]"
   ]
  },
  {
   "cell_type": "code",
   "execution_count": null,
   "metadata": {},
   "outputs": [],
   "source": [
    "\n",
    "import matplotlib.pyplot as plt\n",
    "import mplcursors  # Importa la biblioteca mplcursors\n",
    "\n",
    "# Supongamos que tienes un DataFrame con los componentes principales en 'pca_result' y los nombres de los barrios en 'y'\n",
    "\n",
    "\n",
    "# Crear un diccionario para asignar colores a cada barrio\n",
    "colores = {}\n",
    "barrios_unicos = set(y_district)\n",
    "colormap = plt.cm.get_cmap('rainbow', len(barrios_unicos))\n",
    "for i, barrio in enumerate(barrios_unicos):\n",
    "    colores[barrio] = colormap(i / len(barrios_unicos))\n",
    "\n",
    "# Crear un gráfico de dispersión\n",
    "fig, ax = plt.subplots(figsize=(14, 10))\n",
    "\n",
    "scatter = ax.scatter(pca_result[:, 0], pca_result[:, 1], c=[colores[barrio] for barrio in y_district], alpha=0.7)\n",
    "\n",
    "# Agregar información al hacer clic en los puntos\n",
    "cursor = mplcursors.cursor(scatter, hover=True)\n",
    "\n",
    "def on_point_hover(sel):\n",
    "    index = sel.target.index\n",
    "    district_info = y_district[index]\n",
    "    sel.annotation.set_text(f\"Distrito: {district_info[0]}\\nConcepto: {district_info[1]}\")\n",
    "\n",
    "cursor.connect(\"add\", on_point_hover)\n",
    "\n",
    "ax.set_xlabel('Componente Principal 1')\n",
    "ax.set_ylabel('Componente Principal 2')\n",
    "ax.set_title('Gráfico de Componentes Principales')\n",
    "ax.grid(True)\n",
    "\n",
    "plt.show()"
   ]
  }
 ],
 "metadata": {
  "kernelspec": {
   "display_name": "Python 3.11.3 ('ml')",
   "language": "python",
   "name": "python3"
  },
  "language_info": {
   "codemirror_mode": {
    "name": "ipython",
    "version": 3
   },
   "file_extension": ".py",
   "mimetype": "text/x-python",
   "name": "python",
   "nbconvert_exporter": "python",
   "pygments_lexer": "ipython3",
   "version": "3.11.3"
  },
  "orig_nbformat": 4,
  "vscode": {
   "interpreter": {
    "hash": "56c63f4b451bc66461af340ee5ea9f831b935a75b814b4f68e8a9aa16f7c66b3"
   }
  }
 },
 "nbformat": 4,
 "nbformat_minor": 2
}
